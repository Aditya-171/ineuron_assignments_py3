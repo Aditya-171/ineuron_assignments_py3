{
 "cells": [
  {
   "cell_type": "markdown",
   "metadata": {},
   "source": [
    "## Write a Python Program to implement your own myreduce() function which works exactly like Python's built-in function reduce()\n"
   ]
  },
  {
   "cell_type": "code",
   "execution_count": 7,
   "metadata": {},
   "outputs": [
    {
     "name": "stdout",
     "output_type": "stream",
     "text": [
      "15\n"
     ]
    }
   ],
   "source": [
    "def myreduce(anyfunction,li):\n",
    "    sum=0\n",
    "    for i in li:\n",
    "         sum=sum_q(sum,i)  \n",
    "    return sum\n",
    "\n",
    "def sum_q(x,y):\n",
    "    return x + y\n",
    "\n",
    "l=[1,2,3,4,5]\n",
    "print(myreduce(sum_q,l))"
   ]
  },
  {
   "cell_type": "markdown",
   "metadata": {},
   "source": [
    "# Write a Python program to implement your own myfilter() function which works exactly like Python's built-in function filter()"
   ]
  },
  {
   "cell_type": "code",
   "execution_count": 6,
   "metadata": {},
   "outputs": [
    {
     "name": "stdout",
     "output_type": "stream",
     "text": [
      "[1, 2, 3, 4]\n"
     ]
    }
   ],
   "source": [
    "\n",
    "def myfilter(anyfunction,li):\n",
    "    my_list = []\n",
    "    for i in li:\n",
    "        #checking the value is return by positive function is true or not\n",
    "        if(positive_no(i) == True):\n",
    "            my_list.append(i)\n",
    "    return l\n",
    "def positive_no(x):\n",
    "    if(x>=0):   #checking the number is greater or equal to 0\n",
    "        return True\n",
    "    else:\n",
    "        return False\n",
    "    \n",
    "print(myfilter(positive_no,[1,2,3,0,-3,4]))"
   ]
  },
  {
   "cell_type": "markdown",
   "metadata": {},
   "source": [
    "## Implement List comprehensions to produce the following lists"
   ]
  },
  {
   "cell_type": "code",
   "execution_count": 8,
   "metadata": {},
   "outputs": [
    {
     "name": "stdout",
     "output_type": "stream",
     "text": [
      "['A', 'C', 'A', 'D', 'G', 'I', 'L', 'D']\n"
     ]
    }
   ],
   "source": [
    "word = [letter for letter in \"ACADGILD\"]\n",
    "print(word)"
   ]
  },
  {
   "cell_type": "code",
   "execution_count": 9,
   "metadata": {},
   "outputs": [
    {
     "data": {
      "text/plain": [
       "['x', 'xx', 'xxx', 'xxxx', 'y', 'yy', 'yyy', 'yyyy', 'z', 'zz', 'zzz', 'zzzz']"
      ]
     },
     "execution_count": 9,
     "metadata": {},
     "output_type": "execute_result"
    }
   ],
   "source": [
    "inpu=['x','y','z']\n",
    "[i*j for i in inpu for j in range(1,5)]"
   ]
  },
  {
   "cell_type": "code",
   "execution_count": 31,
   "metadata": {},
   "outputs": [
    {
     "data": {
      "text/plain": [
       "['x', 'y', 'z', 'xx', 'yy', 'zz', 'xxx', 'yyy', 'zzz', 'xxxx', 'yyyy', 'zzzz']"
      ]
     },
     "execution_count": 31,
     "metadata": {},
     "output_type": "execute_result"
    }
   ],
   "source": [
    "inp=['x','y','z']\n",
    "[i*j for i in range(1,5) for j in inp]"
   ]
  },
  {
   "cell_type": "code",
   "execution_count": 32,
   "metadata": {},
   "outputs": [
    {
     "data": {
      "text/plain": [
       "[[2], [3], [4], [3], [4], [5], [4], [5], [6]]"
      ]
     },
     "execution_count": 32,
     "metadata": {},
     "output_type": "execute_result"
    }
   ],
   "source": [
    "[[x+y] for x in range(2,5) for y in range(0,3)]\n"
   ]
  },
  {
   "cell_type": "code",
   "execution_count": 33,
   "metadata": {},
   "outputs": [
    {
     "data": {
      "text/plain": [
       "[[2, 3, 4, 5], [3, 4, 5, 6], [4, 5, 6, 7], [5, 6, 7, 8]]"
      ]
     },
     "execution_count": 33,
     "metadata": {},
     "output_type": "execute_result"
    }
   ],
   "source": [
    "matrix = [2,3,4,5] \n",
    "[ [item+num for item in matrix] for num in range(0,4)  ]"
   ]
  },
  {
   "cell_type": "code",
   "execution_count": 34,
   "metadata": {},
   "outputs": [
    {
     "data": {
      "text/plain": [
       "[(1, 1), (2, 1), (3, 1), (1, 2), (2, 2), (3, 2), (1, 3), (2, 3), (3, 3)]"
      ]
     },
     "execution_count": 34,
     "metadata": {},
     "output_type": "execute_result"
    }
   ],
   "source": [
    "[(b,a) for a in [1,2,3] for b in [1,2,3]]\n"
   ]
  },
  {
   "cell_type": "markdown",
   "metadata": {},
   "source": [
    "## Implement a function longestWord() that takes a list of words and returns the longest one"
   ]
  },
  {
   "cell_type": "code",
   "execution_count": 30,
   "metadata": {},
   "outputs": [
    {
     "name": "stdout",
     "output_type": "stream",
     "text": [
      "Enter sentences to find the longest word-  my name is aditya soni\n",
      "Longest word is-  aditya\n"
     ]
    }
   ],
   "source": [
    "a=input(\"Enter sentences to find the longest word-  \")\n",
    "l=[]\n",
    "b=a.split()\n",
    "def longestWord(b):\n",
    "    for i in b:\n",
    "        length=len(i)\n",
    "        l.append(length) \n",
    "    max_value=max(l)\n",
    "    index=l.index(max_value)\n",
    "    print(\"Longest word is-  \"+b[index])\n",
    "longestWord(b)"
   ]
  },
  {
   "cell_type": "markdown",
   "metadata": {},
   "source": [
    "## Write a Python Program(with class concepts) to find the area of the triangle using the below formula. "
   ]
  },
  {
   "cell_type": "code",
   "execution_count": 38,
   "metadata": {},
   "outputs": [
    {
     "name": "stdout",
     "output_type": "stream",
     "text": [
      "Enter first side- 45\n",
      "Enter second side- 56\n",
      "Enter third side- 34\n",
      "The area of triangle is- 764.92\n"
     ]
    }
   ],
   "source": [
    "import math\n",
    "class area:\n",
    "    def __init__(self,first,second,third):\n",
    "        self.first=first\n",
    "        self.second=second\n",
    "        self.third=third\n",
    "    def sum(self):\n",
    "        s=(self.first+self.second+self.third)/2\n",
    "        a=round((s*(s-self.first)*(s-self.second)*(s-self.third))**0.5,2 )\n",
    "        return a\n",
    "\n",
    "side_first = int(input(\"Enter first side- \"))\n",
    "side_second = int(input(\"Enter second side- \"))\n",
    "side_third = int(input(\"Enter third side- \"))\n",
    "area_traingle=area(side_first,side_second,side_third)\n",
    "print(\"The area of triangle is- \"+str(area_traingle.sum()))"
   ]
  },
  {
   "cell_type": "markdown",
   "metadata": {},
   "source": [
    "## Write a function filter_long_words() that takes a list of words and an integer n and returns the list of words that are longer than n"
   ]
  },
  {
   "cell_type": "code",
   "execution_count": 42,
   "metadata": {},
   "outputs": [
    {
     "name": "stdout",
     "output_type": "stream",
     "text": [
      "Enter number : 3\n",
      "name\n",
      "aditya\n",
      "soni\n"
     ]
    }
   ],
   "source": [
    "a = [\"My\",\"name\",\"is\",\"aditya\",\"soni\"]\n",
    "num = int(input(\"Enter number : \"))\n",
    "def filter_long_words(a,num):\n",
    "    for i in a:\n",
    "        if (len(i))>num:\n",
    "            b=a.index(i)\n",
    "            print(a[b])\n",
    "\n",
    "filter_long_words(a,num)"
   ]
  },
  {
   "cell_type": "markdown",
   "metadata": {},
   "source": [
    "## Write a Python program using function concept that maps list of words into a list of integers representing the lengths of the corresponding words"
   ]
  },
  {
   "cell_type": "code",
   "execution_count": 44,
   "metadata": {},
   "outputs": [
    {
     "name": "stdout",
     "output_type": "stream",
     "text": [
      "['hi', 'aditya', 'soni'] => [2, 6, 4]\n"
     ]
    }
   ],
   "source": [
    "def length(l):\n",
    "    return len(l)\n",
    "li = ['hi','aditya','soni']\n",
    "print(li,end=\" => \")\n",
    "\n",
    "result = map(length,li) \n",
    "print(list(result))"
   ]
  },
  {
   "cell_type": "markdown",
   "metadata": {},
   "source": [
    "## Write a Python function which takes a character (i.e. a string of length 1) and returns True if it is a vowel, False otherwise"
   ]
  },
  {
   "cell_type": "code",
   "execution_count": 51,
   "metadata": {},
   "outputs": [
    {
     "name": "stdout",
     "output_type": "stream",
     "text": [
      "ENTER A CHARACTER-  a\n",
      "Vowel\n"
     ]
    }
   ],
   "source": [
    "li=['a','e','i','o','u']\n",
    "inp=input(\"ENTER A CHARACTER-  \")\n",
    "for i in li:    \n",
    "    if inp == i:\n",
    "        print(\"Vowel\")        \n",
    "        break\n",
    "else:\n",
    "        print(\"Not Vowel\")"
   ]
  },
  {
   "cell_type": "code",
   "execution_count": null,
   "metadata": {},
   "outputs": [],
   "source": []
  }
 ],
 "metadata": {
  "kernelspec": {
   "display_name": "Python 3",
   "language": "python",
   "name": "python3"
  },
  "language_info": {
   "codemirror_mode": {
    "name": "ipython",
    "version": 3
   },
   "file_extension": ".py",
   "mimetype": "text/x-python",
   "name": "python",
   "nbconvert_exporter": "python",
   "pygments_lexer": "ipython3",
   "version": "3.7.4"
  }
 },
 "nbformat": 4,
 "nbformat_minor": 2
}
